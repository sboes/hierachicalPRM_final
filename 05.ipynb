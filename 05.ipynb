{
 "cells": [
  {
   "cell_type": "code",
   "id": "initial_id",
   "metadata": {
    "collapsed": true,
    "ExecuteTime": {
     "end_time": "2025-07-29T20:16:22.320214Z",
     "start_time": "2025-07-29T20:16:21.294658Z"
    }
   },
   "source": [
    "import numpy as np\n",
    "import networkx as nx\n",
    "import matplotlib.pyplot as plt\n",
    "from test import HierarchicalPRMBase\n",
    "from test_Lazy import VisPRM_with_LazyPRM\n",
    "from test import VisPRM_with_BasicPRM\n",
    "from HierarchicalPRMVisualization import hierarchicalPRMVisualize\n",
    "from lectures.IPEnvironment import CollisionChecker\n",
    "from environment import get_all_scenes\n",
    "import time\n",
    "import pandas as pd\n",
    "from scipy.spatial.distance import euclidean"
   ],
   "outputs": [],
   "execution_count": 1
  },
  {
   "metadata": {
    "ExecuteTime": {
     "end_time": "2025-07-29T20:19:01.675768Z",
     "start_time": "2025-07-29T20:19:01.670778Z"
    }
   },
   "cell_type": "code",
   "source": [
    "# ---- Configuration for Hierarchical PRM ----\n",
    "config_hierarchical = {\n",
    "    \"numNodes\": 50,               # Number of nodes in main roadmap\n",
    "    \"boundingBoxSize\": 2.0,       # Size of local planning regions\n",
    "    \"discardOverconnected\": True, # Whether to prune over-connected nodes\n",
    "    \"debug\": False,               # Enable detailed logging\n",
    "    \"internalConfig\": {           # Configuration passed to internal planner\n",
    "        \"radius\": 1.5,            # For BasicPRM\n",
    "        \"numNodes\": 20,           # For BasicPRM\n",
    "        \"initialRoadmapSize\": 15,  # For LazyPRM\n",
    "        \"updateRoadmapSize\": 5,    # For LazyPRM\n",
    "        \"kNearest\": 5             # For LazyPRM\n",
    "    }\n",
    "}\n",
    "\n",
    "config = {\n",
    "    \"initialRoadmapSize\": 50,\n",
    "    \"updateRoadmapSize\": 20,\n",
    "    \"kNearest\": 10,\n",
    "    \"maxIterations\": 30\n",
    "}\n",
    "\n",
    "\n",
    "scenes = get_all_scenes()"
   ],
   "id": "a442cf6c2d519625",
   "outputs": [],
   "execution_count": 10
  },
  {
   "metadata": {
    "ExecuteTime": {
     "end_time": "2025-07-29T20:19:02.128636Z",
     "start_time": "2025-07-29T20:19:02.125198Z"
    }
   },
   "cell_type": "code",
   "source": [
    "# Create directories for results\n",
    "import os\n",
    "plot_dir = \"plots_hierarchical\"\n",
    "results_dir = \"benchmark_results\"\n",
    "os.makedirs(plot_dir, exist_ok=True)\n",
    "os.makedirs(results_dir, exist_ok=True)"
   ],
   "id": "144283aa9718d198",
   "outputs": [],
   "execution_count": 11
  },
  {
   "metadata": {
    "ExecuteTime": {
     "end_time": "2025-07-29T20:19:02.695662Z",
     "start_time": "2025-07-29T20:19:02.690846Z"
    }
   },
   "cell_type": "code",
   "source": [
    "def run_benchmark(planner_class, planner_name):\n",
    "    all_results = []\n",
    "    scenes = get_all_scenes()\n",
    "\n",
    "    for scene_name, (scene, limits, (start_pos, goal_pos)) in scenes:\n",
    "        start = [list(start_pos)]\n",
    "        goal = [list(goal_pos)]\n",
    "\n",
    "        collision_checker = CollisionChecker(scene, limits)\n",
    "        planner = planner_class(collision_checker)\n",
    "\n",
    "        t0 = time.time()\n",
    "        result = planner.planPath(start, goal, config)\n",
    "        t1 = time.time()\n",
    "\n",
    "        # Sicheres Extrahieren des Pfades aus dem Ergebnis\n",
    "        path = result.get('path', []) if isinstance(result, dict) else []\n",
    "\n",
    "        # Berechnung der Pfadmetriken mit Fehlerprüfung\n",
    "        try:\n",
    "            coords = [planner.graph.nodes[node]['pos'] for node in path] if path else []\n",
    "            euclidean_length = sum(euclidean(a, b) for a, b in zip(coords[:-1], coords[1:])) if coords else 0\n",
    "        except KeyError:\n",
    "            print(f\"Warnung: Ungültige Knoten-IDs im Pfad für Szene {scene_name}\")\n",
    "            coords = []\n",
    "            euclidean_length = 0\n",
    "\n",
    "        result_data = {\n",
    "            \"scene\": scene_name,\n",
    "            \"hasPath\": bool(path),\n",
    "            \"length\": len(path),\n",
    "            \"euclidean_length\": euclidean_length,\n",
    "            \"time\": t1 - t0,\n",
    "            \"nodes\": len(planner.graph.nodes),\n",
    "            \"edges\": len(planner.graph.edges)\n",
    "        }\n",
    "        all_results.append(result_data)\n",
    "\n",
    "    return all_results"
   ],
   "id": "305015c859c8ad69",
   "outputs": [],
   "execution_count": 12
  },
  {
   "metadata": {
    "ExecuteTime": {
     "end_time": "2025-07-29T20:21:53.557018Z",
     "start_time": "2025-07-29T20:19:04.357538Z"
    }
   },
   "cell_type": "code",
   "source": [
    "# ---- Run both variants ----\n",
    "all_results = []\n",
    "\n",
    "# LazyPRM version\n",
    "lazy_results = run_benchmark(VisPRM_with_LazyPRM, \"Hierarchical-LazyPRM\")\n",
    "lazy_df = pd.DataFrame(lazy_results)\n",
    "lazy_df.to_csv(os.path.join(results_dir, \"Hierarchical-LazyPRM_results.csv\"), index=False)\n",
    "all_results.extend(lazy_results)\n"
   ],
   "id": "7d7b1f44b47a8fac",
   "outputs": [],
   "execution_count": 13
  },
  {
   "metadata": {},
   "cell_type": "code",
   "source": "",
   "id": "f87a603d5fae2a0d",
   "outputs": [],
   "execution_count": null
  }
 ],
 "metadata": {
  "kernelspec": {
   "display_name": "Python 3",
   "language": "python",
   "name": "python3"
  },
  "language_info": {
   "codemirror_mode": {
    "name": "ipython",
    "version": 2
   },
   "file_extension": ".py",
   "mimetype": "text/x-python",
   "name": "python",
   "nbconvert_exporter": "python",
   "pygments_lexer": "ipython2",
   "version": "2.7.6"
  }
 },
 "nbformat": 4,
 "nbformat_minor": 5
}
