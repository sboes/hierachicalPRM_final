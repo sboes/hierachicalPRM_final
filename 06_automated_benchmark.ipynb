{
 "cells": [
  {
   "cell_type": "code",
   "id": "0823c850-cfa9-41ff-9b4e-78418e6d15e5",
   "metadata": {
    "execution": {
     "iopub.execute_input": "2025-07-29T16:51:05.453993Z",
     "iopub.status.busy": "2025-07-29T16:51:05.453562Z",
     "iopub.status.idle": "2025-07-29T16:51:05.457490Z",
     "shell.execute_reply": "2025-07-29T16:51:05.456903Z",
     "shell.execute_reply.started": "2025-07-29T16:51:05.453973Z"
    },
    "ExecuteTime": {
     "end_time": "2025-08-01T21:09:51.288244Z",
     "start_time": "2025-08-01T21:09:51.284884Z"
    }
   },
   "source": [
    "# ---\n",
    "# Zelle 1: Setup & Imports\n",
    "# ---\n",
    "\n",
    "import numpy as np\n",
    "import matplotlib.pyplot as plt\n",
    "from collections import defaultdict\n",
    "\n",
    "# Eigene Module\n",
    "from VisPRM_with_BasicPRM import VisPRM_with_BasicPRM\n",
    "from VisPRM_with_LazyPRM import VisPRM_with_LazyPRM\n",
    "from lectures.IPBasicPRM import BasicPRM\n",
    "from lectures.IPLazyPRM import LazyPRM\n",
    "from lectures.IPVisibilityPRM import VisPRM\n",
    "from PRMEvaluator import PRMEvaluator\n",
    "from TestEnvironments import create_point_robot_environments, create_planar_robot_environments\n",
    "from HierarchicalPRMVisualization import hierarchicalPRMVisualize\n"
   ],
   "outputs": [],
   "execution_count": 2
  },
  {
   "cell_type": "code",
   "id": "1275c03a-b009-4189-8af8-c1ea493d469e",
   "metadata": {
    "ExecuteTime": {
     "end_time": "2025-08-01T21:09:51.866348Z",
     "start_time": "2025-08-01T21:09:51.862636Z"
    }
   },
   "source": [
    "# ---\n",
    "# Zelle 2: Planner Dictionary\n",
    "# ---\n",
    "\n",
    "# Dictionary für Evaluator: Name -> Planner-Klasse\n",
    "planners = {\n",
    "    \"BasicPRM\": BasicPRM,\n",
    "    \"LazyPRM\": LazyPRM,\n",
    "    \"VisibilityPRM\": VisPRM,\n",
    "    \"Hierarchical-VisPRM+BasicPRM\": VisPRM_with_BasicPRM,\n",
    "    \"Hierarchical-VisPRM+LazyPRM\": VisPRM_with_LazyPRM\n",
    "}\n",
    "\n",
    "print(\"Planners ready:\", list(planners.keys()))\n"
   ],
   "outputs": [
    {
     "name": "stdout",
     "output_type": "stream",
     "text": [
      "Planners ready: ['BasicPRM', 'LazyPRM', 'VisibilityPRM', 'Hierarchical-VisPRM+BasicPRM', 'Hierarchical-VisPRM+LazyPRM']\n"
     ]
    }
   ],
   "execution_count": 3
  },
  {
   "metadata": {
    "ExecuteTime": {
     "end_time": "2025-08-01T21:09:53.813558Z",
     "start_time": "2025-08-01T21:09:53.807536Z"
    }
   },
   "cell_type": "code",
   "source": [
    "# ---\n",
    "# Zelle 3: Test Environments\n",
    "# ---\n",
    "\n",
    "# 2-DoF Punktroboter-Umgebungen\n",
    "point_envs = create_point_robot_environments()\n",
    "\n",
    "# 2-DoF Planarroboter-Umgebungen\n",
    "planar_envs = create_planar_robot_environments()\n",
    "\n",
    "# Komplexere Testumgebungen (4, 8, 12 DoF)\n",
    "# -> Für diese Beispielumgebungen kannst du deine eigenen Umgebungsfunktionen ergänzen\n",
    "complex_envs = {\n",
    "    \"planar4DoF\": planar_envs[\"central_obstacle\"],   # als Platzhalter\n",
    "    \"planar8DoF\": planar_envs[\"multiple_passages\"],\n",
    "    \"planar12DoF\": planar_envs[\"multiple_passages\"]\n",
    "}\n",
    "\n",
    "# Alle Umgebungen sammeln\n",
    "environments = {}\n",
    "environments.update(point_envs)\n",
    "environments.update(planar_envs)\n",
    "environments.update(complex_envs)\n",
    "\n",
    "print(\"Environments loaded:\", list(environments.keys()))\n"
   ],
   "id": "8be84a782acf5640",
   "outputs": [
    {
     "name": "stdout",
     "output_type": "stream",
     "text": [
      "Environments loaded: ['maze', 'cluttered', 'narrow_passage', 'central_obstacle', 'multiple_passages', 'planar4DoF', 'planar8DoF', 'planar12DoF']\n"
     ]
    }
   ],
   "execution_count": 4
  },
  {
   "metadata": {
    "ExecuteTime": {
     "end_time": "2025-08-01T21:10:09.740454Z",
     "start_time": "2025-08-01T21:09:57.589595Z"
    }
   },
   "cell_type": "code",
   "source": [
    "# ---\n",
    "# Zelle 4: Evaluation\n",
    "# ---\n",
    "\n",
    "evaluator = PRMEvaluator(planners, environments)\n",
    "\n",
    "# Starte Evaluation (z.B. 3 Trials für schnelleren Test)\n",
    "evaluator.evaluate(num_trials=1)\n",
    "\n",
    "# Ergebnisse in evaluator.results gespeichert\n",
    "print(\"Evaluation done ✅\")\n"
   ],
   "id": "3d29de8e959f4718",
   "outputs": [
    {
     "ename": "KeyboardInterrupt",
     "evalue": "",
     "output_type": "error",
     "traceback": [
      "\u001B[31m---------------------------------------------------------------------------\u001B[39m",
      "\u001B[31mKeyboardInterrupt\u001B[39m                         Traceback (most recent call last)",
      "\u001B[36mCell\u001B[39m\u001B[36m \u001B[39m\u001B[32mIn[5]\u001B[39m\u001B[32m, line 8\u001B[39m\n\u001B[32m      5\u001B[39m evaluator = PRMEvaluator(planners, environments)\n\u001B[32m      7\u001B[39m \u001B[38;5;66;03m# Starte Evaluation (z.B. 3 Trials für schnelleren Test)\u001B[39;00m\n\u001B[32m----> \u001B[39m\u001B[32m8\u001B[39m \u001B[43mevaluator\u001B[49m\u001B[43m.\u001B[49m\u001B[43mevaluate\u001B[49m\u001B[43m(\u001B[49m\u001B[43mnum_trials\u001B[49m\u001B[43m=\u001B[49m\u001B[32;43m1\u001B[39;49m\u001B[43m)\u001B[49m\n\u001B[32m     10\u001B[39m \u001B[38;5;66;03m# Ergebnisse in evaluator.results gespeichert\u001B[39;00m\n\u001B[32m     11\u001B[39m \u001B[38;5;28mprint\u001B[39m(\u001B[33m\"\u001B[39m\u001B[33mEvaluation done ✅\u001B[39m\u001B[33m\"\u001B[39m)\n",
      "\u001B[36mFile \u001B[39m\u001B[32m~\\PycharmProjects\\pythonProject\\hierachicalPRM_final\\PRMEvaluator.py:24\u001B[39m, in \u001B[36mPRMEvaluator.evaluate\u001B[39m\u001B[34m(self, num_trials)\u001B[39m\n\u001B[32m     22\u001B[39m     \u001B[38;5;28;01mfor\u001B[39;00m planner_name, planner \u001B[38;5;129;01min\u001B[39;00m \u001B[38;5;28mself\u001B[39m.planners.items():\n\u001B[32m     23\u001B[39m         \u001B[38;5;28;01mfor\u001B[39;00m trial \u001B[38;5;129;01min\u001B[39;00m \u001B[38;5;28mrange\u001B[39m(num_trials):\n\u001B[32m---> \u001B[39m\u001B[32m24\u001B[39m             \u001B[38;5;28;43mself\u001B[39;49m\u001B[43m.\u001B[49m\u001B[43m_run_single_test\u001B[49m\u001B[43m(\u001B[49m\u001B[43menv_name\u001B[49m\u001B[43m,\u001B[49m\u001B[43m \u001B[49m\u001B[43mplanner_name\u001B[49m\u001B[43m,\u001B[49m\u001B[43m \u001B[49m\u001B[43mplanner\u001B[49m\u001B[43m,\u001B[49m\u001B[43m \u001B[49m\u001B[43menv\u001B[49m\u001B[43m)\u001B[49m\n\u001B[32m     26\u001B[39m \u001B[38;5;28mself\u001B[39m._analyze_results()\n",
      "\u001B[36mFile \u001B[39m\u001B[32m~\\PycharmProjects\\pythonProject\\hierachicalPRM_final\\PRMEvaluator.py:39\u001B[39m, in \u001B[36mPRMEvaluator._run_single_test\u001B[39m\u001B[34m(self, env_name, planner_name, planner, env)\u001B[39m\n\u001B[32m     37\u001B[39m \u001B[38;5;66;03m# Run planning\u001B[39;00m\n\u001B[32m     38\u001B[39m start_time = time.time()\n\u001B[32m---> \u001B[39m\u001B[32m39\u001B[39m path = \u001B[43mplanner_instance\u001B[49m\u001B[43m.\u001B[49m\u001B[43mplanPath\u001B[49m\u001B[43m(\u001B[49m\u001B[43m[\u001B[49m\u001B[43mstart\u001B[49m\u001B[43m]\u001B[49m\u001B[43m,\u001B[49m\u001B[43m \u001B[49m\u001B[43m[\u001B[49m\u001B[43mgoal\u001B[49m\u001B[43m]\u001B[49m\u001B[43m,\u001B[49m\u001B[43m \u001B[49m\u001B[38;5;28;43mself\u001B[39;49m\u001B[43m.\u001B[49m\u001B[43m_get_planner_config\u001B[49m\u001B[43m(\u001B[49m\u001B[43mplanner_name\u001B[49m\u001B[43m)\u001B[49m\u001B[43m)\u001B[49m\n\u001B[32m     40\u001B[39m planning_time = time.time() - start_time\n\u001B[32m     42\u001B[39m \u001B[38;5;66;03m# Store results\u001B[39;00m\n",
      "\u001B[36mFile \u001B[39m\u001B[32m~\\PycharmProjects\\pythonProject\\hierachicalPRM_final\\lectures\\IPPerfMonitor.py:29\u001B[39m, in \u001B[36mIPPerfMonitor.__call__\u001B[39m\u001B[34m(self, *args, **kwargs)\u001B[39m\n\u001B[32m     26\u001B[39m \u001B[38;5;28;01mdef\u001B[39;00m\u001B[38;5;250m \u001B[39m\u001B[34m__call__\u001B[39m(\u001B[38;5;28mself\u001B[39m, *args, **kwargs):\n\u001B[32m     28\u001B[39m     starttime = time.time()\n\u001B[32m---> \u001B[39m\u001B[32m29\u001B[39m     ret = \u001B[38;5;28;43mself\u001B[39;49m\u001B[43m.\u001B[49m\u001B[43m__f\u001B[49m\u001B[43m(\u001B[49m\u001B[43m*\u001B[49m\u001B[43margs\u001B[49m\u001B[43m,\u001B[49m\u001B[43m \u001B[49m\u001B[43m*\u001B[49m\u001B[43m*\u001B[49m\u001B[43mkwargs\u001B[49m\u001B[43m)\u001B[49m\n\u001B[32m     30\u001B[39m     endtime = time.time()\n\u001B[32m     31\u001B[39m     element = {\u001B[33m'\u001B[39m\u001B[33margs\u001B[39m\u001B[33m'\u001B[39m: args, \u001B[33m'\u001B[39m\u001B[33mkwargs\u001B[39m\u001B[33m'\u001B[39m: kwargs, \u001B[33m\"\u001B[39m\u001B[33mretVal\u001B[39m\u001B[33m\"\u001B[39m: ret, \u001B[33m\"\u001B[39m\u001B[33mtime\u001B[39m\u001B[33m\"\u001B[39m: endtime-starttime}\n",
      "\u001B[36mFile \u001B[39m\u001B[32m~\\PycharmProjects\\pythonProject\\hierachicalPRM_final\\HierarchicalPRMBase.py:99\u001B[39m, in \u001B[36mHierarchicalPRMBase.planPath\u001B[39m\u001B[34m(self, startList, goalList, config, debug)\u001B[39m\n\u001B[32m     96\u001B[39m \u001B[38;5;28mself\u001B[39m._log(\u001B[33mf\u001B[39m\u001B[33m\"\u001B[39m\u001B[38;5;130;01m\\n\u001B[39;00m\u001B[33m=== Starting planning from \u001B[39m\u001B[38;5;132;01m{\u001B[39;00mcheckedStartList[\u001B[32m0\u001B[39m]\u001B[38;5;132;01m}\u001B[39;00m\u001B[33m to \u001B[39m\u001B[38;5;132;01m{\u001B[39;00mcheckedGoalList[\u001B[32m0\u001B[39m]\u001B[38;5;132;01m}\u001B[39;00m\u001B[33m ===\u001B[39m\u001B[33m\"\u001B[39m)\n\u001B[32m     98\u001B[39m \u001B[38;5;66;03m# Learn roadmap\u001B[39;00m\n\u001B[32m---> \u001B[39m\u001B[32m99\u001B[39m \u001B[38;5;28;43mself\u001B[39;49m\u001B[43m.\u001B[49m\u001B[43m_learnRoadmap\u001B[49m\u001B[43m(\u001B[49m\u001B[43mconfig\u001B[49m\u001B[43m.\u001B[49m\u001B[43mget\u001B[49m\u001B[43m(\u001B[49m\u001B[33;43m\"\u001B[39;49m\u001B[33;43mntry\u001B[39;49m\u001B[33;43m\"\u001B[39;49m\u001B[43m,\u001B[49m\u001B[43m \u001B[49m\u001B[32;43m50\u001B[39;49m\u001B[43m)\u001B[49m\u001B[43m)\u001B[49m\n\u001B[32m    101\u001B[39m \u001B[38;5;66;03m# Analyze roadmap\u001B[39;00m\n\u001B[32m    102\u001B[39m \u001B[38;5;28mself\u001B[39m._log(\u001B[33m\"\u001B[39m\u001B[38;5;130;01m\\n\u001B[39;00m\u001B[33m=== Roadmap Analysis ===\u001B[39m\u001B[33m\"\u001B[39m)\n",
      "\u001B[36mFile \u001B[39m\u001B[32m~\\PycharmProjects\\pythonProject\\hierachicalPRM_final\\lectures\\IPPerfMonitor.py:29\u001B[39m, in \u001B[36mIPPerfMonitor.__call__\u001B[39m\u001B[34m(self, *args, **kwargs)\u001B[39m\n\u001B[32m     26\u001B[39m \u001B[38;5;28;01mdef\u001B[39;00m\u001B[38;5;250m \u001B[39m\u001B[34m__call__\u001B[39m(\u001B[38;5;28mself\u001B[39m, *args, **kwargs):\n\u001B[32m     28\u001B[39m     starttime = time.time()\n\u001B[32m---> \u001B[39m\u001B[32m29\u001B[39m     ret = \u001B[38;5;28;43mself\u001B[39;49m\u001B[43m.\u001B[49m\u001B[43m__f\u001B[49m\u001B[43m(\u001B[49m\u001B[43m*\u001B[49m\u001B[43margs\u001B[49m\u001B[43m,\u001B[49m\u001B[43m \u001B[49m\u001B[43m*\u001B[49m\u001B[43m*\u001B[49m\u001B[43mkwargs\u001B[49m\u001B[43m)\u001B[49m\n\u001B[32m     30\u001B[39m     endtime = time.time()\n\u001B[32m     31\u001B[39m     element = {\u001B[33m'\u001B[39m\u001B[33margs\u001B[39m\u001B[33m'\u001B[39m: args, \u001B[33m'\u001B[39m\u001B[33mkwargs\u001B[39m\u001B[33m'\u001B[39m: kwargs, \u001B[33m\"\u001B[39m\u001B[33mretVal\u001B[39m\u001B[33m\"\u001B[39m: ret, \u001B[33m\"\u001B[39m\u001B[33mtime\u001B[39m\u001B[33m\"\u001B[39m: endtime-starttime}\n",
      "\u001B[36mFile \u001B[39m\u001B[32m~\\PycharmProjects\\pythonProject\\hierachicalPRM_final\\HierarchicalPRMBase.py:261\u001B[39m, in \u001B[36mHierarchicalPRMBase._learnRoadmap\u001B[39m\u001B[34m(self, ntry)\u001B[39m\n\u001B[32m    258\u001B[39m \u001B[38;5;28;01mif\u001B[39;00m \u001B[38;5;28mself\u001B[39m.statsHandler:\n\u001B[32m    259\u001B[39m     \u001B[38;5;28mself\u001B[39m.statsHandler.addVisTest(nodeNumber, g)\n\u001B[32m--> \u001B[39m\u001B[32m261\u001B[39m \u001B[38;5;28;01mif\u001B[39;00m \u001B[38;5;28;43mself\u001B[39;49m\u001B[43m.\u001B[49m\u001B[43m_isVisible\u001B[49m\u001B[43m(\u001B[49m\u001B[43mq_pos\u001B[49m\u001B[43m,\u001B[49m\u001B[43m \u001B[49m\u001B[38;5;28;43mself\u001B[39;49m\u001B[43m.\u001B[49m\u001B[43mgraph\u001B[49m\u001B[43m.\u001B[49m\u001B[43mnodes\u001B[49m\u001B[43m(\u001B[49m\u001B[43m)\u001B[49m\u001B[43m[\u001B[49m\u001B[43mg\u001B[49m\u001B[43m]\u001B[49m\u001B[43m[\u001B[49m\u001B[33;43m'\u001B[39;49m\u001B[33;43mpos\u001B[39;49m\u001B[33;43m'\u001B[39;49m\u001B[43m]\u001B[49m\u001B[43m)\u001B[49m:\n\u001B[32m    262\u001B[39m     found = \u001B[38;5;28;01mTrue\u001B[39;00m\n\u001B[32m    263\u001B[39m     \u001B[38;5;28;01mif\u001B[39;00m g_vis == \u001B[38;5;28;01mNone\u001B[39;00m:\n",
      "\u001B[36mFile \u001B[39m\u001B[32m~\\PycharmProjects\\pythonProject\\hierachicalPRM_final\\HierarchicalPRMBase.py:67\u001B[39m, in \u001B[36mHierarchicalPRMBase._isVisible\u001B[39m\u001B[34m(self, pos1, pos2)\u001B[39m\n\u001B[32m     64\u001B[39m config = \u001B[38;5;28mself\u001B[39m._getInternalPlannerConfig()\n\u001B[32m     66\u001B[39m \u001B[38;5;28mself\u001B[39m.internalPlanner.graph.clear()\n\u001B[32m---> \u001B[39m\u001B[32m67\u001B[39m path = \u001B[38;5;28;43mself\u001B[39;49m\u001B[43m.\u001B[49m\u001B[43minternalPlanner\u001B[49m\u001B[43m.\u001B[49m\u001B[43mplanPath\u001B[49m\u001B[43m(\u001B[49m\u001B[43m[\u001B[49m\u001B[43mpos1\u001B[49m\u001B[43m]\u001B[49m\u001B[43m,\u001B[49m\u001B[43m \u001B[49m\u001B[43m[\u001B[49m\u001B[43mpos2\u001B[49m\u001B[43m]\u001B[49m\u001B[43m,\u001B[49m\u001B[43m \u001B[49m\u001B[43mconfig\u001B[49m\u001B[43m)\u001B[49m\n\u001B[32m     69\u001B[39m result = \u001B[38;5;28mlen\u001B[39m(path) > \u001B[32m0\u001B[39m\n\u001B[32m     70\u001B[39m \u001B[38;5;28mself\u001B[39m._log(\u001B[33mf\u001B[39m\u001B[33m\"\u001B[39m\u001B[33mVisibility check \u001B[39m\u001B[38;5;132;01m{\u001B[39;00m\u001B[33m'\u001B[39m\u001B[33msucceeded\u001B[39m\u001B[33m'\u001B[39m\u001B[38;5;250m \u001B[39m\u001B[38;5;28;01mif\u001B[39;00m\u001B[38;5;250m \u001B[39mresult\u001B[38;5;250m \u001B[39m\u001B[38;5;28;01melse\u001B[39;00m\u001B[38;5;250m \u001B[39m\u001B[33m'\u001B[39m\u001B[33mfailed\u001B[39m\u001B[33m'\u001B[39m\u001B[38;5;132;01m}\u001B[39;00m\u001B[33m\"\u001B[39m)\n",
      "\u001B[36mFile \u001B[39m\u001B[32m~\\PycharmProjects\\pythonProject\\hierachicalPRM_final\\lectures\\IPPerfMonitor.py:29\u001B[39m, in \u001B[36mIPPerfMonitor.__call__\u001B[39m\u001B[34m(self, *args, **kwargs)\u001B[39m\n\u001B[32m     26\u001B[39m \u001B[38;5;28;01mdef\u001B[39;00m\u001B[38;5;250m \u001B[39m\u001B[34m__call__\u001B[39m(\u001B[38;5;28mself\u001B[39m, *args, **kwargs):\n\u001B[32m     28\u001B[39m     starttime = time.time()\n\u001B[32m---> \u001B[39m\u001B[32m29\u001B[39m     ret = \u001B[38;5;28;43mself\u001B[39;49m\u001B[43m.\u001B[49m\u001B[43m__f\u001B[49m\u001B[43m(\u001B[49m\u001B[43m*\u001B[49m\u001B[43margs\u001B[49m\u001B[43m,\u001B[49m\u001B[43m \u001B[49m\u001B[43m*\u001B[49m\u001B[43m*\u001B[49m\u001B[43mkwargs\u001B[49m\u001B[43m)\u001B[49m\n\u001B[32m     30\u001B[39m     endtime = time.time()\n\u001B[32m     31\u001B[39m     element = {\u001B[33m'\u001B[39m\u001B[33margs\u001B[39m\u001B[33m'\u001B[39m: args, \u001B[33m'\u001B[39m\u001B[33mkwargs\u001B[39m\u001B[33m'\u001B[39m: kwargs, \u001B[33m\"\u001B[39m\u001B[33mretVal\u001B[39m\u001B[33m\"\u001B[39m: ret, \u001B[33m\"\u001B[39m\u001B[33mtime\u001B[39m\u001B[33m\"\u001B[39m: endtime-starttime}\n",
      "\u001B[36mFile \u001B[39m\u001B[32m~\\PycharmProjects\\pythonProject\\hierachicalPRM_final\\lectures\\IPBasicPRM.py:100\u001B[39m, in \u001B[36mBasicPRM.planPath\u001B[39m\u001B[34m(self, startList, goalList, config)\u001B[39m\n\u001B[32m     97\u001B[39m checkedStartList, checkedGoalList = \u001B[38;5;28mself\u001B[39m._checkStartGoal(startList, goalList)\n\u001B[32m     99\u001B[39m \u001B[38;5;66;03m# 2. learn Roadmap\u001B[39;00m\n\u001B[32m--> \u001B[39m\u001B[32m100\u001B[39m \u001B[38;5;28;43mself\u001B[39;49m\u001B[43m.\u001B[49m\u001B[43m_learnRoadmapNearestNeighbour\u001B[49m\u001B[43m(\u001B[49m\u001B[43mconfig\u001B[49m\u001B[43m[\u001B[49m\u001B[33;43m\"\u001B[39;49m\u001B[33;43mradius\u001B[39;49m\u001B[33;43m\"\u001B[39;49m\u001B[43m]\u001B[49m\u001B[43m,\u001B[49m\u001B[43m \u001B[49m\u001B[43mconfig\u001B[49m\u001B[43m[\u001B[49m\u001B[33;43m\"\u001B[39;49m\u001B[33;43mnumNodes\u001B[39;49m\u001B[33;43m\"\u001B[39;49m\u001B[43m]\u001B[49m\u001B[43m)\u001B[49m\n\u001B[32m    102\u001B[39m \u001B[38;5;66;03m# 3. find connection of start and goal to roadmap\u001B[39;00m\n\u001B[32m    103\u001B[39m \u001B[38;5;66;03m# find nearest, collision-free connection between node on graph and start\u001B[39;00m\n\u001B[32m    104\u001B[39m result = \u001B[38;5;28mself\u001B[39m._nearestNeighbours(checkedStartList[\u001B[32m0\u001B[39m], config[\u001B[33m\"\u001B[39m\u001B[33mradius\u001B[39m\u001B[33m\"\u001B[39m])\n",
      "\u001B[36mFile \u001B[39m\u001B[32m~\\PycharmProjects\\pythonProject\\hierachicalPRM_final\\lectures\\IPPerfMonitor.py:29\u001B[39m, in \u001B[36mIPPerfMonitor.__call__\u001B[39m\u001B[34m(self, *args, **kwargs)\u001B[39m\n\u001B[32m     26\u001B[39m \u001B[38;5;28;01mdef\u001B[39;00m\u001B[38;5;250m \u001B[39m\u001B[34m__call__\u001B[39m(\u001B[38;5;28mself\u001B[39m, *args, **kwargs):\n\u001B[32m     28\u001B[39m     starttime = time.time()\n\u001B[32m---> \u001B[39m\u001B[32m29\u001B[39m     ret = \u001B[38;5;28;43mself\u001B[39;49m\u001B[43m.\u001B[49m\u001B[43m__f\u001B[49m\u001B[43m(\u001B[49m\u001B[43m*\u001B[49m\u001B[43margs\u001B[49m\u001B[43m,\u001B[49m\u001B[43m \u001B[49m\u001B[43m*\u001B[49m\u001B[43m*\u001B[49m\u001B[43mkwargs\u001B[49m\u001B[43m)\u001B[49m\n\u001B[32m     30\u001B[39m     endtime = time.time()\n\u001B[32m     31\u001B[39m     element = {\u001B[33m'\u001B[39m\u001B[33margs\u001B[39m\u001B[33m'\u001B[39m: args, \u001B[33m'\u001B[39m\u001B[33mkwargs\u001B[39m\u001B[33m'\u001B[39m: kwargs, \u001B[33m\"\u001B[39m\u001B[33mretVal\u001B[39m\u001B[33m\"\u001B[39m: ret, \u001B[33m\"\u001B[39m\u001B[33mtime\u001B[39m\u001B[33m\"\u001B[39m: endtime-starttime}\n",
      "\u001B[36mFile \u001B[39m\u001B[32m~\\PycharmProjects\\pythonProject\\hierachicalPRM_final\\lectures\\IPBasicPRM.py:67\u001B[39m, in \u001B[36mBasicPRM._learnRoadmapNearestNeighbour\u001B[39m\u001B[34m(self, radius, numNodes)\u001B[39m\n\u001B[32m     64\u001B[39m     \u001B[38;5;28;01mif\u001B[39;00m \u001B[38;5;28mself\u001B[39m._inSameConnectedComponent(nodeID, data[\u001B[32m0\u001B[39m]):\n\u001B[32m     65\u001B[39m         \u001B[38;5;28;01mbreak\u001B[39;00m\n\u001B[32m---> \u001B[39m\u001B[32m67\u001B[39m     \u001B[38;5;28;01mif\u001B[39;00m \u001B[38;5;129;01mnot\u001B[39;00m \u001B[38;5;28;43mself\u001B[39;49m\u001B[43m.\u001B[49m\u001B[43m_collisionChecker\u001B[49m\u001B[43m.\u001B[49m\u001B[43mlineInCollision\u001B[49m\u001B[43m(\u001B[49m\u001B[43mnewNodePos\u001B[49m\u001B[43m,\u001B[49m\u001B[43m \u001B[49m\u001B[43mdata\u001B[49m\u001B[43m[\u001B[49m\u001B[32;43m1\u001B[39;49m\u001B[43m]\u001B[49m\u001B[43m[\u001B[49m\u001B[33;43m'\u001B[39;49m\u001B[33;43mpos\u001B[39;49m\u001B[33;43m'\u001B[39;49m\u001B[43m]\u001B[49m\u001B[43m)\u001B[49m:\n\u001B[32m     68\u001B[39m         \u001B[38;5;28mself\u001B[39m.graph.add_edge(nodeID, data[\u001B[32m0\u001B[39m])\n\u001B[32m     70\u001B[39m nodeID += \u001B[32m1\u001B[39m\n",
      "\u001B[36mFile \u001B[39m\u001B[32m~\\PycharmProjects\\pythonProject\\hierachicalPRM_final\\lectures\\IPPerfMonitor.py:29\u001B[39m, in \u001B[36mIPPerfMonitor.__call__\u001B[39m\u001B[34m(self, *args, **kwargs)\u001B[39m\n\u001B[32m     26\u001B[39m \u001B[38;5;28;01mdef\u001B[39;00m\u001B[38;5;250m \u001B[39m\u001B[34m__call__\u001B[39m(\u001B[38;5;28mself\u001B[39m, *args, **kwargs):\n\u001B[32m     28\u001B[39m     starttime = time.time()\n\u001B[32m---> \u001B[39m\u001B[32m29\u001B[39m     ret = \u001B[38;5;28;43mself\u001B[39;49m\u001B[43m.\u001B[49m\u001B[43m__f\u001B[49m\u001B[43m(\u001B[49m\u001B[43m*\u001B[49m\u001B[43margs\u001B[49m\u001B[43m,\u001B[49m\u001B[43m \u001B[49m\u001B[43m*\u001B[49m\u001B[43m*\u001B[49m\u001B[43mkwargs\u001B[49m\u001B[43m)\u001B[49m\n\u001B[32m     30\u001B[39m     endtime = time.time()\n\u001B[32m     31\u001B[39m     element = {\u001B[33m'\u001B[39m\u001B[33margs\u001B[39m\u001B[33m'\u001B[39m: args, \u001B[33m'\u001B[39m\u001B[33mkwargs\u001B[39m\u001B[33m'\u001B[39m: kwargs, \u001B[33m\"\u001B[39m\u001B[33mretVal\u001B[39m\u001B[33m\"\u001B[39m: ret, \u001B[33m\"\u001B[39m\u001B[33mtime\u001B[39m\u001B[33m\"\u001B[39m: endtime-starttime}\n",
      "\u001B[36mFile \u001B[39m\u001B[32m~\\PycharmProjects\\pythonProject\\hierachicalPRM_final\\lectures\\IPEnvironment.py:56\u001B[39m, in \u001B[36mCollisionChecker.lineInCollision\u001B[39m\u001B[34m(self, startPos, endPos)\u001B[39m\n\u001B[32m     54\u001B[39m \u001B[38;5;28;01mfor\u001B[39;00m i \u001B[38;5;129;01min\u001B[39;00m \u001B[38;5;28mrange\u001B[39m(k):\n\u001B[32m     55\u001B[39m     testPoint = p1 + (i+\u001B[32m1\u001B[39m)/k*p12\n\u001B[32m---> \u001B[39m\u001B[32m56\u001B[39m     \u001B[38;5;28;01mif\u001B[39;00m \u001B[38;5;28;43mself\u001B[39;49m\u001B[43m.\u001B[49m\u001B[43mpointInCollision\u001B[49m\u001B[43m(\u001B[49m\u001B[43mtestPoint\u001B[49m\u001B[43m)\u001B[49m==\u001B[38;5;28;01mTrue\u001B[39;00m:\n\u001B[32m     57\u001B[39m         \u001B[38;5;28;01mreturn\u001B[39;00m \u001B[38;5;28;01mTrue\u001B[39;00m\n\u001B[32m     59\u001B[39m \u001B[38;5;28;01mreturn\u001B[39;00m \u001B[38;5;28;01mFalse\u001B[39;00m\n",
      "\u001B[36mFile \u001B[39m\u001B[32m~\\PycharmProjects\\pythonProject\\hierachicalPRM_final\\lectures\\IPPerfMonitor.py:29\u001B[39m, in \u001B[36mIPPerfMonitor.__call__\u001B[39m\u001B[34m(self, *args, **kwargs)\u001B[39m\n\u001B[32m     26\u001B[39m \u001B[38;5;28;01mdef\u001B[39;00m\u001B[38;5;250m \u001B[39m\u001B[34m__call__\u001B[39m(\u001B[38;5;28mself\u001B[39m, *args, **kwargs):\n\u001B[32m     28\u001B[39m     starttime = time.time()\n\u001B[32m---> \u001B[39m\u001B[32m29\u001B[39m     ret = \u001B[38;5;28;43mself\u001B[39;49m\u001B[43m.\u001B[49m\u001B[43m__f\u001B[49m\u001B[43m(\u001B[49m\u001B[43m*\u001B[49m\u001B[43margs\u001B[49m\u001B[43m,\u001B[49m\u001B[43m \u001B[49m\u001B[43m*\u001B[49m\u001B[43m*\u001B[49m\u001B[43mkwargs\u001B[49m\u001B[43m)\u001B[49m\n\u001B[32m     30\u001B[39m     endtime = time.time()\n\u001B[32m     31\u001B[39m     element = {\u001B[33m'\u001B[39m\u001B[33margs\u001B[39m\u001B[33m'\u001B[39m: args, \u001B[33m'\u001B[39m\u001B[33mkwargs\u001B[39m\u001B[33m'\u001B[39m: kwargs, \u001B[33m\"\u001B[39m\u001B[33mretVal\u001B[39m\u001B[33m\"\u001B[39m: ret, \u001B[33m\"\u001B[39m\u001B[33mtime\u001B[39m\u001B[33m\"\u001B[39m: endtime-starttime}\n",
      "\u001B[36mFile \u001B[39m\u001B[32m~\\PycharmProjects\\pythonProject\\hierachicalPRM_final\\lectures\\IPEnvironment.py:39\u001B[39m, in \u001B[36mCollisionChecker.pointInCollision\u001B[39m\u001B[34m(self, pos)\u001B[39m\n\u001B[32m     37\u001B[39m \u001B[38;5;28;01massert\u001B[39;00m (\u001B[38;5;28mlen\u001B[39m(pos) == \u001B[38;5;28mself\u001B[39m.getDim())\n\u001B[32m     38\u001B[39m \u001B[38;5;28;01mfor\u001B[39;00m key, value \u001B[38;5;129;01min\u001B[39;00m \u001B[38;5;28mself\u001B[39m.scene.items():\n\u001B[32m---> \u001B[39m\u001B[32m39\u001B[39m     \u001B[38;5;28;01mif\u001B[39;00m \u001B[43mvalue\u001B[49m\u001B[43m.\u001B[49m\u001B[43mintersects\u001B[49m\u001B[43m(\u001B[49m\u001B[43mPoint\u001B[49m\u001B[43m(\u001B[49m\u001B[43mpos\u001B[49m\u001B[43m[\u001B[49m\u001B[32;43m0\u001B[39;49m\u001B[43m]\u001B[49m\u001B[43m,\u001B[49m\u001B[43m \u001B[49m\u001B[43mpos\u001B[49m\u001B[43m[\u001B[49m\u001B[32;43m1\u001B[39;49m\u001B[43m]\u001B[49m\u001B[43m)\u001B[49m\u001B[43m)\u001B[49m:\n\u001B[32m     40\u001B[39m         \u001B[38;5;28;01mreturn\u001B[39;00m \u001B[38;5;28;01mTrue\u001B[39;00m\n\u001B[32m     41\u001B[39m \u001B[38;5;28;01mreturn\u001B[39;00m \u001B[38;5;28;01mFalse\u001B[39;00m\n",
      "\u001B[36mFile \u001B[39m\u001B[32m~\\AppData\\Local\\Programs\\Python\\Python313\\Lib\\site-packages\\shapely\\geometry\\base.py:819\u001B[39m, in \u001B[36mBaseGeometry.intersects\u001B[39m\u001B[34m(self, other)\u001B[39m\n\u001B[32m    817\u001B[39m \u001B[38;5;28;01mdef\u001B[39;00m\u001B[38;5;250m \u001B[39m\u001B[34mintersects\u001B[39m(\u001B[38;5;28mself\u001B[39m, other):\n\u001B[32m    818\u001B[39m \u001B[38;5;250m    \u001B[39m\u001B[33;03m\"\"\"Return True if geometries intersect, else False.\"\"\"\u001B[39;00m\n\u001B[32m--> \u001B[39m\u001B[32m819\u001B[39m     \u001B[38;5;28;01mreturn\u001B[39;00m _maybe_unpack(\u001B[43mshapely\u001B[49m\u001B[43m.\u001B[49m\u001B[43mintersects\u001B[49m\u001B[43m(\u001B[49m\u001B[38;5;28;43mself\u001B[39;49m\u001B[43m,\u001B[49m\u001B[43m \u001B[49m\u001B[43mother\u001B[49m\u001B[43m)\u001B[49m)\n",
      "\u001B[36mFile \u001B[39m\u001B[32m~\\AppData\\Local\\Programs\\Python\\Python313\\Lib\\site-packages\\shapely\\decorators.py:88\u001B[39m, in \u001B[36mmultithreading_enabled.<locals>.wrapped\u001B[39m\u001B[34m(*args, **kwargs)\u001B[39m\n\u001B[32m     86\u001B[39m     \u001B[38;5;28;01mfor\u001B[39;00m arr \u001B[38;5;129;01min\u001B[39;00m array_args:\n\u001B[32m     87\u001B[39m         arr.flags.writeable = \u001B[38;5;28;01mFalse\u001B[39;00m\n\u001B[32m---> \u001B[39m\u001B[32m88\u001B[39m     \u001B[38;5;28;01mreturn\u001B[39;00m \u001B[43mfunc\u001B[49m\u001B[43m(\u001B[49m\u001B[43m*\u001B[49m\u001B[43margs\u001B[49m\u001B[43m,\u001B[49m\u001B[43m \u001B[49m\u001B[43m*\u001B[49m\u001B[43m*\u001B[49m\u001B[43mkwargs\u001B[49m\u001B[43m)\u001B[49m\n\u001B[32m     89\u001B[39m \u001B[38;5;28;01mfinally\u001B[39;00m:\n\u001B[32m     90\u001B[39m     \u001B[38;5;28;01mfor\u001B[39;00m arr, old_flag \u001B[38;5;129;01min\u001B[39;00m \u001B[38;5;28mzip\u001B[39m(array_args, old_flags):\n",
      "\u001B[36mFile \u001B[39m\u001B[32m~\\AppData\\Local\\Programs\\Python\\Python313\\Lib\\site-packages\\shapely\\predicates.py:878\u001B[39m, in \u001B[36mintersects\u001B[39m\u001B[34m(a, b, **kwargs)\u001B[39m\n\u001B[32m    844\u001B[39m \u001B[38;5;129m@multithreading_enabled\u001B[39m\n\u001B[32m    845\u001B[39m \u001B[38;5;28;01mdef\u001B[39;00m\u001B[38;5;250m \u001B[39m\u001B[34mintersects\u001B[39m(a, b, **kwargs):\n\u001B[32m    846\u001B[39m \u001B[38;5;250m    \u001B[39m\u001B[33;03m\"\"\"Return True if A and B share any portion of space.\u001B[39;00m\n\u001B[32m    847\u001B[39m \n\u001B[32m    848\u001B[39m \u001B[33;03m    Intersects implies that overlaps, touches, covers, or within are True.\u001B[39;00m\n\u001B[32m   (...)\u001B[39m\u001B[32m    876\u001B[39m \n\u001B[32m    877\u001B[39m \u001B[33;03m    \"\"\"\u001B[39;00m\n\u001B[32m--> \u001B[39m\u001B[32m878\u001B[39m     \u001B[38;5;28;01mreturn\u001B[39;00m \u001B[43mlib\u001B[49m\u001B[43m.\u001B[49m\u001B[43mintersects\u001B[49m\u001B[43m(\u001B[49m\u001B[43ma\u001B[49m\u001B[43m,\u001B[49m\u001B[43m \u001B[49m\u001B[43mb\u001B[49m\u001B[43m,\u001B[49m\u001B[43m \u001B[49m\u001B[43m*\u001B[49m\u001B[43m*\u001B[49m\u001B[43mkwargs\u001B[49m\u001B[43m)\u001B[49m\n",
      "\u001B[31mKeyboardInterrupt\u001B[39m: "
     ]
    }
   ],
   "execution_count": 5
  },
  {
   "metadata": {},
   "cell_type": "code",
   "source": "",
   "id": "4e0d73845823352d",
   "outputs": [],
   "execution_count": null
  },
  {
   "metadata": {},
   "cell_type": "code",
   "source": "",
   "id": "3baffaa3d7c791f9",
   "outputs": [],
   "execution_count": null
  }
 ],
 "metadata": {
  "kernelspec": {
   "display_name": "Python 3 (ipykernel)",
   "language": "python",
   "name": "python3"
  },
  "language_info": {
   "codemirror_mode": {
    "name": "ipython",
    "version": 3
   },
   "file_extension": ".py",
   "mimetype": "text/x-python",
   "name": "python",
   "nbconvert_exporter": "python",
   "pygments_lexer": "ipython3",
   "version": "3.11.3"
  }
 },
 "nbformat": 4,
 "nbformat_minor": 5
}
