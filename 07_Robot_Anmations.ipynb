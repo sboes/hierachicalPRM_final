{
 "cells": [
  {
   "cell_type": "code",
   "id": "initial_id",
   "metadata": {
    "collapsed": true
   },
   "source": [
    "from lectures.IPPlanarManipulator import PlanarJoint, PlanarRobot, generate_consistent_joint_config\n",
    "from lectures.IPEnvironmentKin import KinChainCollisionChecker, planarRobotVisualize\n",
    "import matplotlib.pyplot as plt\n",
    "from shapely.geometry import Point, Polygon, LineString\n",
    "from shapely import plotting\n",
    "import sympy as sp\n",
    "import numpy as np\n",
    "\n",
    "obst = dict()\n",
    "obst[\"obs1\"] = LineString([(-2, 0), (-0.8, 0)]).buffer(0.5)\n",
    "obst[\"obs2\"] = LineString([(2, 0), (2, 1)]).buffer(0.2)\n",
    "obst[\"obs3\"] = LineString([(-1, 2), (1, 2)]).buffer(0.1)\n"
   ],
   "outputs": [],
   "execution_count": null
  },
  {
   "metadata": {},
   "cell_type": "markdown",
   "source": "## 2-DOF Example",
   "id": "6583bfda2e18c307"
  },
  {
   "metadata": {},
   "cell_type": "code",
   "source": [
    "r = PlanarRobot(n_joints=2, total_length=3.5)\n",
    "environment = KinChainCollisionChecker(r, obst,fk_resolution=.2)\n",
    "\n",
    "start_joint_angles = generate_consistent_joint_config(r.dim, total_angle=2.0, curvature=0.45)\n",
    "start_joint_pos = sp.Matrix(start_joint_angles)\n",
    "\n",
    "end_joint_angles = generate_consistent_joint_config(r.dim, total_angle=-1.85, curvature=-0.45)\n",
    "end_joint_pos = sp.Matrix(end_joint_angles)\n",
    "\n",
    "fig_local = plt.figure(figsize=(14, 7))\n",
    "## right figure for robot start position\n",
    "ax1 = fig_local.add_subplot(1, 2, 1)\n",
    "ax1.set_xlim([-4,4])\n",
    "ax1.set_ylim([-4,4])\n",
    "environment.drawObstacles(ax1, True)\n",
    "r.move(start_joint_pos)\n",
    "planarRobotVisualize(r, ax1)\n",
    "r.move(end_joint_pos)\n",
    "planarRobotVisualize(r, ax1)\n"
   ],
   "id": "a0e0f343b4f0a2c3",
   "outputs": [],
   "execution_count": null
  },
  {
   "metadata": {},
   "cell_type": "code",
   "source": [
    "from lectures.IPLazyPRM import LazyPRM\n",
    "from lectures.IPVISLazyPRM import lazyPRMVisualize\n",
    "from lectures.IPBasicPRM import BasicPRM\n",
    "from lectures.IPVISBasicPRM import basicPRMVisualize\n",
    "from lectures.IPVisibilityPRM import VisPRM\n",
    "from lectures.IPVISVisibilityPRM import visibilityPRMVisualize\n",
    "from lectures.IPEnvironmentKin import animateSolution\n",
    "\n",
    "lazyPRM = LazyPRM(environment)\n",
    "lazyConfig = dict()\n",
    "lazyConfig[\"initialRoadmapSize\"] = 30\n",
    "lazyConfig[\"updateRoadmapSize\"]  = 5\n",
    "lazyConfig[\"kNearest\"] = 15\n",
    "lazyConfig[\"maxIterations\"] = 15\n",
    "\n",
    "start_joint_pos = [2.0, 0.5]\n",
    "end_joint_pos = [-2.0, -0.5]\n",
    "\n",
    "start = [start_joint_pos]\n",
    "goal  = [end_joint_pos]\n",
    "\n",
    "## plan path from start to goal\n",
    "solution = lazyPRM.planPath(start, goal, lazyConfig)\n",
    "print(solution)"
   ],
   "id": "55d954fe9273b29b",
   "outputs": [],
   "execution_count": null
  },
  {
   "metadata": {},
   "cell_type": "code",
   "source": "animateSolution(lazyPRM, environment, solution, lazyPRMVisualize)",
   "id": "b0a58f5fa56a4497",
   "outputs": [],
   "execution_count": null
  },
  {
   "metadata": {},
   "cell_type": "code",
   "source": [
    "basicPRM = BasicPRM(environment)\n",
    "basicConfig = dict()\n",
    "basicConfig[\"numNodes\"] = 80\n",
    "basicConfig[\"radius\"] = 4\n",
    "solution_basic = basicPRM.planPath(start, goal, basicConfig)\n",
    "print(solution_basic)"
   ],
   "id": "f746d4ff09e1446f",
   "outputs": [],
   "execution_count": null
  },
  {
   "metadata": {},
   "cell_type": "code",
   "source": "animateSolution(basicPRM, environment, solution_basic, basicPRMVisualize)",
   "id": "574e927b176bdaf5",
   "outputs": [],
   "execution_count": null
  },
  {
   "metadata": {},
   "cell_type": "code",
   "source": [
    "visPRM = VisPRM(environment)\n",
    "visConfig = dict()\n",
    "visConfig[\"ntry\"] = 30\n",
    "\n",
    "solution_basic = visPRM.planPath(start, goal, visConfig)\n",
    "print(solution_basic)"
   ],
   "id": "120295885f4e305d",
   "outputs": [],
   "execution_count": null
  },
  {
   "metadata": {},
   "cell_type": "code",
   "source": "animateSolution(visPRM, environment, solution_basic, visibilityPRMVisualize)",
   "id": "d09c90a3be552bd3",
   "outputs": [],
   "execution_count": null
  },
  {
   "metadata": {},
   "cell_type": "markdown",
   "source": "## 4-DoF",
   "id": "34879b0547f60c62"
  },
  {
   "metadata": {},
   "cell_type": "code",
   "source": [
    "r = PlanarRobot(n_joints=4, total_length=3.5)\n",
    "limits = [[-3.14,3.14]] * r.dim\n",
    "environment = KinChainCollisionChecker(r, obst,limits=limits, fk_resolution=.2)\n",
    "\n",
    "start_joint_angles = generate_consistent_joint_config(r.dim, total_angle=2, curvature=0.45)\n",
    "start_joint_pos = sp.Matrix(start_joint_angles)\n",
    "\n",
    "end_joint_angles = generate_consistent_joint_config(r.dim, total_angle=-1.85, curvature=-0.45)\n",
    "end_joint_pos = sp.Matrix(end_joint_angles)\n",
    "\n",
    "fig_local = plt.figure(figsize=(14, 7))\n",
    "## right figure for robot start position\n",
    "ax1 = fig_local.add_subplot(1, 2, 1)\n",
    "ax1.set_xlim([-4,4])\n",
    "ax1.set_ylim([-4,4])\n",
    "environment.drawObstacles(ax1, True)\n",
    "r.move(start_joint_pos)\n",
    "planarRobotVisualize(r, ax1)\n",
    "r.move(end_joint_pos)\n",
    "planarRobotVisualize(r, ax1)"
   ],
   "id": "a071e445fa824e20",
   "outputs": [],
   "execution_count": null
  },
  {
   "metadata": {},
   "cell_type": "markdown",
   "source": "## 6-DoF",
   "id": "48e32d47f43d48e6"
  },
  {
   "metadata": {},
   "cell_type": "code",
   "source": [
    "r = PlanarRobot(n_joints=6, total_length=3.5)\n",
    "limits = [[-3.14,3.14]] * r.dim\n",
    "environment = KinChainCollisionChecker(r, obst,limits=limits, fk_resolution=.2)\n",
    "\n",
    "start_joint_angles = generate_consistent_joint_config(r.dim, total_angle=2, curvature=0.45)\n",
    "start_joint_pos = sp.Matrix(start_joint_angles)\n",
    "\n",
    "end_joint_angles = generate_consistent_joint_config(r.dim, total_angle=-1.85, curvature=-0.45)\n",
    "end_joint_pos = sp.Matrix(end_joint_angles)\n",
    "\n",
    "fig_local = plt.figure(figsize=(14, 7))\n",
    "## right figure for robot start position\n",
    "ax1 = fig_local.add_subplot(1, 2, 1)\n",
    "ax1.set_xlim([-4,4])\n",
    "ax1.set_ylim([-4,4])\n",
    "environment.drawObstacles(ax1, True)\n",
    "r.move(start_joint_pos)\n",
    "planarRobotVisualize(r, ax1)\n",
    "r.move(end_joint_pos)\n",
    "planarRobotVisualize(r, ax1)"
   ],
   "id": "7c9d77b6cf5d52aa",
   "outputs": [],
   "execution_count": null
  },
  {
   "metadata": {},
   "cell_type": "code",
   "source": [
    "## plan path from start to goal\n",
    "lazyPRM = LazyPRM(environment)\n",
    "start = [np.array(start_joint_angles, dtype=np.float32)]\n",
    "goal = [np.array(end_joint_angles, dtype=np.float32)]\n",
    "## plan path from start ot goal\n",
    "solution = lazyPRM.planPath(start, goal, lazyConfig)\n",
    "print(solution)"
   ],
   "id": "eba63d924ab5d46b",
   "outputs": [],
   "execution_count": null
  },
  {
   "metadata": {},
   "cell_type": "code",
   "source": "animateSolution(lazyPRM, environment, solution, lazyPRMVisualize)",
   "id": "c489d0c02f026030",
   "outputs": [],
   "execution_count": null
  },
  {
   "metadata": {},
   "cell_type": "code",
   "source": [
    "visPRM = VisPRM(environment)\n",
    "visConfig = dict()\n",
    "visConfig[\"ntry\"] = 20\n",
    "\n",
    "solution = visPRM.planPath(start, goal, visConfig)\n",
    "print(solution)"
   ],
   "id": "dd87be9c9e33b447",
   "outputs": [],
   "execution_count": null
  },
  {
   "metadata": {},
   "cell_type": "markdown",
   "source": "## 12-DoF",
   "id": "72dc511d171ecdcb"
  },
  {
   "metadata": {},
   "cell_type": "code",
   "source": [
    "r = PlanarRobot(n_joints=12, total_length=3.5)\n",
    "limits = [[-3.14,3.14]] * r.dim\n",
    "environment = KinChainCollisionChecker(r, obst,limits=limits, fk_resolution=.2)\n",
    "\n",
    "start_joint_angles = generate_consistent_joint_config(r.dim, total_angle=2, curvature=0.45)\n",
    "start_joint_pos = sp.Matrix(start_joint_angles)\n",
    "\n",
    "end_joint_angles = generate_consistent_joint_config(r.dim, total_angle=-1.85, curvature=-0.45)\n",
    "end_joint_pos = sp.Matrix(end_joint_angles)\n",
    "\n",
    "fig_local = plt.figure(figsize=(14, 7))\n",
    "## right figure for robot start position\n",
    "ax1 = fig_local.add_subplot(1, 2, 1)\n",
    "ax1.set_xlim([-4,4])\n",
    "ax1.set_ylim([-4,4])\n",
    "environment.drawObstacles(ax1, True)\n",
    "r.move(start_joint_pos)\n",
    "planarRobotVisualize(r, ax1)\n",
    "r.move(end_joint_pos)\n",
    "planarRobotVisualize(r, ax1)"
   ],
   "id": "a48a337d9a985b6",
   "outputs": [],
   "execution_count": null
  },
  {
   "metadata": {},
   "cell_type": "code",
   "source": "",
   "id": "674cd5042e515285",
   "outputs": [],
   "execution_count": null
  }
 ],
 "metadata": {
  "kernelspec": {
   "display_name": "Python 3",
   "language": "python",
   "name": "python3"
  },
  "language_info": {
   "codemirror_mode": {
    "name": "ipython",
    "version": 2
   },
   "file_extension": ".py",
   "mimetype": "text/x-python",
   "name": "python",
   "nbconvert_exporter": "python",
   "pygments_lexer": "ipython2",
   "version": "2.7.6"
  }
 },
 "nbformat": 4,
 "nbformat_minor": 5
}
