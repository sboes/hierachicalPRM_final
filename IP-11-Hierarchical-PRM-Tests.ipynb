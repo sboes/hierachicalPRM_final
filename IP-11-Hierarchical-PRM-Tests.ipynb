{
 "cells": [
  {
   "cell_type": "code",
   "id": "0823c850-cfa9-41ff-9b4e-78418e6d15e5",
   "metadata": {
    "execution": {
     "iopub.execute_input": "2025-07-29T16:51:05.453993Z",
     "iopub.status.busy": "2025-07-29T16:51:05.453562Z",
     "iopub.status.idle": "2025-07-29T16:51:05.457490Z",
     "shell.execute_reply": "2025-07-29T16:51:05.456903Z",
     "shell.execute_reply.started": "2025-07-29T16:51:05.453973Z"
    },
    "ExecuteTime": {
     "end_time": "2025-07-29T17:40:51.102293Z",
     "start_time": "2025-07-29T17:40:50.032395Z"
    }
   },
   "source": [
    "# ---\n",
    "# Zelle 1: Setup & Imports\n",
    "# ---\n",
    "\n",
    "import numpy as np\n",
    "import matplotlib.pyplot as plt\n",
    "from collections import defaultdict\n",
    "\n",
    "# Eigene Module\n",
    "from VisPRM_with_BasicPRM import VisPRM_with_BasicPRM\n",
    "from VisPRM_with_LazyPRM import VisPRM_with_LazyPRM\n",
    "from lectures.IPBasicPRM import BasicPRM\n",
    "from lectures.IPLazyPRM import LazyPRM\n",
    "from lectures.IPVisibilityPRM import VisPRM\n",
    "from PRMEvaluator import PRMEvaluator\n",
    "from TestEnvironments import create_point_robot_environments, create_planar_robot_environments\n",
    "from HierarchicalPRMVisualization import hierarchicalPRMVisualize\n",
    "\n",
    "print(\"Setup complete ✅\")\n"
   ],
   "outputs": [
    {
     "name": "stdout",
     "output_type": "stream",
     "text": [
      "Setup complete ✅\n"
     ]
    }
   ],
   "execution_count": 1
  },
  {
   "cell_type": "code",
   "id": "1275c03a-b009-4189-8af8-c1ea493d469e",
   "metadata": {
    "ExecuteTime": {
     "end_time": "2025-07-29T17:41:03.262043Z",
     "start_time": "2025-07-29T17:41:03.258242Z"
    }
   },
   "source": [
    "# ---\n",
    "# Zelle 2: Planner Dictionary\n",
    "# ---\n",
    "\n",
    "# Dictionary für Evaluator: Name -> Planner-Klasse\n",
    "planners = {\n",
    "    \"BasicPRM\": BasicPRM,\n",
    "    \"LazyPRM\": LazyPRM,\n",
    "    \"VisibilityPRM\": VisPRM,\n",
    "    \"Hierarchical-VisPRM+BasicPRM\": VisPRM_with_BasicPRM,\n",
    "    \"Hierarchical-VisPRM+LazyPRM\": VisPRM_with_LazyPRM\n",
    "}\n",
    "\n",
    "print(\"Planners ready:\", list(planners.keys()))\n"
   ],
   "outputs": [
    {
     "name": "stdout",
     "output_type": "stream",
     "text": [
      "Planners ready: ['BasicPRM', 'LazyPRM', 'VisibilityPRM', 'Hierarchical-VisPRM+BasicPRM', 'Hierarchical-VisPRM+LazyPRM']\n"
     ]
    }
   ],
   "execution_count": 2
  },
  {
   "metadata": {
    "ExecuteTime": {
     "end_time": "2025-07-29T17:42:04.340262Z",
     "start_time": "2025-07-29T17:42:04.334405Z"
    }
   },
   "cell_type": "code",
   "source": [
    "# ---\n",
    "# Zelle 3: Test Environments\n",
    "# ---\n",
    "\n",
    "# 2-DoF Punktroboter-Umgebungen\n",
    "point_envs = create_point_robot_environments()\n",
    "\n",
    "# 2-DoF Planarroboter-Umgebungen\n",
    "planar_envs = create_planar_robot_environments()\n",
    "\n",
    "# Komplexere Testumgebungen (4, 8, 12 DoF)\n",
    "# -> Für diese Beispielumgebungen kannst du deine eigenen Umgebungsfunktionen ergänzen\n",
    "complex_envs = {\n",
    "    \"planar4DoF\": planar_envs[\"central_obstacle\"],   # als Platzhalter\n",
    "    \"planar8DoF\": planar_envs[\"multiple_passages\"],\n",
    "    \"planar12DoF\": planar_envs[\"multiple_passages\"]\n",
    "}\n",
    "\n",
    "# Alle Umgebungen sammeln\n",
    "environments = {}\n",
    "environments.update(point_envs)\n",
    "environments.update(planar_envs)\n",
    "environments.update(complex_envs)\n",
    "\n",
    "print(\"Environments loaded:\", list(environments.keys()))\n"
   ],
   "id": "8be84a782acf5640",
   "outputs": [
    {
     "name": "stdout",
     "output_type": "stream",
     "text": [
      "Environments loaded: ['maze', 'cluttered', 'narrow_passage', 'central_obstacle', 'multiple_passages', 'planar4DoF', 'planar8DoF', 'planar12DoF']\n"
     ]
    }
   ],
   "execution_count": 5
  },
  {
   "metadata": {
    "ExecuteTime": {
     "end_time": "2025-07-29T17:57:11.549013Z",
     "start_time": "2025-07-29T17:54:11.211234Z"
    }
   },
   "cell_type": "code",
   "source": [
    "# ---\n",
    "# Zelle 4: Evaluation\n",
    "# ---\n",
    "\n",
    "evaluator = PRMEvaluator(planners, environments)\n",
    "\n",
    "# Starte Evaluation (z.B. 3 Trials für schnelleren Test)\n",
    "evaluator.evaluate(num_trials=3)\n",
    "\n",
    "# Ergebnisse in evaluator.results gespeichert\n",
    "print(\"Evaluation done ✅\")\n"
   ],
   "id": "3d29de8e959f4718",
   "outputs": [
    {
     "ename": "KeyError",
     "evalue": "0",
     "output_type": "error",
     "traceback": [
      "\u001B[31m---------------------------------------------------------------------------\u001B[39m",
      "\u001B[31mKeyError\u001B[39m                                  Traceback (most recent call last)",
      "\u001B[36mCell\u001B[39m\u001B[36m \u001B[39m\u001B[32mIn[7]\u001B[39m\u001B[32m, line 8\u001B[39m\n\u001B[32m      5\u001B[39m evaluator = PRMEvaluator(planners, environments)\n\u001B[32m      7\u001B[39m \u001B[38;5;66;03m# Starte Evaluation (z.B. 3 Trials für schnelleren Test)\u001B[39;00m\n\u001B[32m----> \u001B[39m\u001B[32m8\u001B[39m \u001B[43mevaluator\u001B[49m\u001B[43m.\u001B[49m\u001B[43mevaluate\u001B[49m\u001B[43m(\u001B[49m\u001B[43mnum_trials\u001B[49m\u001B[43m=\u001B[49m\u001B[32;43m3\u001B[39;49m\u001B[43m)\u001B[49m\n\u001B[32m     10\u001B[39m \u001B[38;5;66;03m# Ergebnisse in evaluator.results gespeichert\u001B[39;00m\n\u001B[32m     11\u001B[39m \u001B[38;5;28mprint\u001B[39m(\u001B[33m\"\u001B[39m\u001B[33mEvaluation done ✅\u001B[39m\u001B[33m\"\u001B[39m)\n",
      "\u001B[36mFile \u001B[39m\u001B[32m~\\PycharmProjects\\pythonProject\\hierachicalPRM_final\\PRMEvaluator.py:24\u001B[39m, in \u001B[36mPRMEvaluator.evaluate\u001B[39m\u001B[34m(self, num_trials)\u001B[39m\n\u001B[32m     22\u001B[39m     \u001B[38;5;28;01mfor\u001B[39;00m planner_name, planner \u001B[38;5;129;01min\u001B[39;00m \u001B[38;5;28mself\u001B[39m.planners.items():\n\u001B[32m     23\u001B[39m         \u001B[38;5;28;01mfor\u001B[39;00m trial \u001B[38;5;129;01min\u001B[39;00m \u001B[38;5;28mrange\u001B[39m(num_trials):\n\u001B[32m---> \u001B[39m\u001B[32m24\u001B[39m             \u001B[38;5;28;43mself\u001B[39;49m\u001B[43m.\u001B[49m\u001B[43m_run_single_test\u001B[49m\u001B[43m(\u001B[49m\u001B[43menv_name\u001B[49m\u001B[43m,\u001B[49m\u001B[43m \u001B[49m\u001B[43mplanner_name\u001B[49m\u001B[43m,\u001B[49m\u001B[43m \u001B[49m\u001B[43mplanner\u001B[49m\u001B[43m,\u001B[49m\u001B[43m \u001B[49m\u001B[43menv\u001B[49m\u001B[43m)\u001B[49m\n\u001B[32m     26\u001B[39m \u001B[38;5;28mself\u001B[39m._analyze_results()\n",
      "\u001B[36mFile \u001B[39m\u001B[32m~\\PycharmProjects\\pythonProject\\hierachicalPRM_final\\PRMEvaluator.py:46\u001B[39m, in \u001B[36mPRMEvaluator._run_single_test\u001B[39m\u001B[34m(self, env_name, planner_name, planner, env)\u001B[39m\n\u001B[32m     40\u001B[39m planning_time = time.time() - start_time\n\u001B[32m     42\u001B[39m \u001B[38;5;66;03m# Store results\u001B[39;00m\n\u001B[32m     43\u001B[39m result = {\n\u001B[32m     44\u001B[39m     \u001B[33m'\u001B[39m\u001B[33msuccess\u001B[39m\u001B[33m'\u001B[39m: \u001B[38;5;28mlen\u001B[39m(path) > \u001B[32m0\u001B[39m,\n\u001B[32m     45\u001B[39m     \u001B[33m'\u001B[39m\u001B[33mtime\u001B[39m\u001B[33m'\u001B[39m: planning_time,\n\u001B[32m---> \u001B[39m\u001B[32m46\u001B[39m     \u001B[33m'\u001B[39m\u001B[33mpath_length\u001B[39m\u001B[33m'\u001B[39m: \u001B[38;5;28;43mself\u001B[39;49m\u001B[43m.\u001B[49m\u001B[43m_calculate_path_length\u001B[49m\u001B[43m(\u001B[49m\u001B[43mpath\u001B[49m\u001B[43m,\u001B[49m\u001B[43m \u001B[49m\u001B[43mplanner_instance\u001B[49m\u001B[43m)\u001B[49m \u001B[38;5;28;01mif\u001B[39;00m path \u001B[38;5;28;01melse\u001B[39;00m \u001B[32m0\u001B[39m,\n\u001B[32m     47\u001B[39m     \u001B[33m'\u001B[39m\u001B[33mroadmap_size\u001B[39m\u001B[33m'\u001B[39m: \u001B[38;5;28mlen\u001B[39m(planner_instance.graph.nodes()),\n\u001B[32m     48\u001B[39m     \u001B[33m'\u001B[39m\u001B[33mpath_nodes\u001B[39m\u001B[33m'\u001B[39m: \u001B[38;5;28mlen\u001B[39m(path) \u001B[38;5;28;01mif\u001B[39;00m path \u001B[38;5;28;01melse\u001B[39;00m \u001B[32m0\u001B[39m\n\u001B[32m     49\u001B[39m }\n\u001B[32m     51\u001B[39m \u001B[38;5;28mself\u001B[39m.results[(env_name, planner_name)].append(result)\n",
      "\u001B[36mFile \u001B[39m\u001B[32m~\\PycharmProjects\\pythonProject\\hierachicalPRM_final\\PRMEvaluator.py:130\u001B[39m, in \u001B[36mPRMEvaluator._calculate_path_length\u001B[39m\u001B[34m(self, path, planner)\u001B[39m\n\u001B[32m    128\u001B[39m length = \u001B[32m0\u001B[39m\n\u001B[32m    129\u001B[39m \u001B[38;5;28;01mfor\u001B[39;00m i \u001B[38;5;129;01min\u001B[39;00m \u001B[38;5;28mrange\u001B[39m(\u001B[38;5;28mlen\u001B[39m(path)-\u001B[32m1\u001B[39m):\n\u001B[32m--> \u001B[39m\u001B[32m130\u001B[39m     pos1 = planner.graph.nodes[\u001B[43mpath\u001B[49m\u001B[43m[\u001B[49m\u001B[43mi\u001B[49m\u001B[43m]\u001B[49m][\u001B[33m'\u001B[39m\u001B[33mpos\u001B[39m\u001B[33m'\u001B[39m]\n\u001B[32m    131\u001B[39m     pos2 = planner.graph.nodes[path[i+\u001B[32m1\u001B[39m]][\u001B[33m'\u001B[39m\u001B[33mpos\u001B[39m\u001B[33m'\u001B[39m]\n\u001B[32m    132\u001B[39m     length += np.linalg.norm(np.array(pos1) - np.array(pos2))\n",
      "\u001B[31mKeyError\u001B[39m: 0"
     ]
    }
   ],
   "execution_count": 7
  },
  {
   "metadata": {},
   "cell_type": "code",
   "outputs": [],
   "execution_count": null,
   "source": "",
   "id": "4e0d73845823352d"
  },
  {
   "metadata": {},
   "cell_type": "code",
   "outputs": [],
   "execution_count": null,
   "source": "",
   "id": "3baffaa3d7c791f9"
  }
 ],
 "metadata": {
  "kernelspec": {
   "display_name": "Python 3 (ipykernel)",
   "language": "python",
   "name": "python3"
  },
  "language_info": {
   "codemirror_mode": {
    "name": "ipython",
    "version": 3
   },
   "file_extension": ".py",
   "mimetype": "text/x-python",
   "name": "python",
   "nbconvert_exporter": "python",
   "pygments_lexer": "ipython3",
   "version": "3.11.3"
  }
 },
 "nbformat": 4,
 "nbformat_minor": 5
}
