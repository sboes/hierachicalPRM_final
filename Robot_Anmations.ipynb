{
 "cells": [
  {
   "cell_type": "code",
   "id": "initial_id",
   "metadata": {
    "collapsed": true
   },
   "source": [
    "from lectures.IPPlanarManipulator import PlanarJoint, PlanarRobot, generate_consistent_joint_config\n",
    "from lectures.IPEnvironmentKin import KinChainCollisionChecker, planarRobotVisualize\n",
    "import matplotlib.pyplot as plt\n",
    "from shapely.geometry import Point, Polygon, LineString\n",
    "from shapely import plotting\n",
    "import sympy as sp\n",
    "import numpy as np\n",
    "\n",
    "obst = dict()\n",
    "obst[\"obs1\"] = LineString([(-2, 0), (-0.8, 0)]).buffer(0.5)\n",
    "obst[\"obs2\"] = LineString([(2, 0), (2, 1)]).buffer(0.2)\n",
    "obst[\"obs3\"] = LineString([(-1, 2), (1, 2)]).buffer(0.1)\n"
   ],
   "outputs": [],
   "execution_count": null
  },
  {
   "metadata": {},
   "cell_type": "markdown",
   "source": "## 2-DOF Example",
   "id": "6583bfda2e18c307"
  },
  {
   "metadata": {},
   "cell_type": "code",
   "source": [
    "r = PlanarRobot(n_joints=2, total_length=3.5)\n",
    "environment = KinChainCollisionChecker(r, obst,fk_resolution=.2)\n",
    "\n",
    "start_joint_angles = generate_consistent_joint_config(r.dim, total_angle=2.0, curvature=0.45)\n",
    "start_joint_pos = sp.Matrix(start_joint_angles)\n",
    "\n",
    "end_joint_angles = generate_consistent_joint_config(r.dim, total_angle=-1.85, curvature=-0.45)\n",
    "end_joint_pos = sp.Matrix(end_joint_angles)\n",
    "\n",
    "fig_local = plt.figure(figsize=(14, 7))\n",
    "## right figure for robot start position\n",
    "ax1 = fig_local.add_subplot(1, 2, 1)\n",
    "ax1.set_xlim([-4,4])\n",
    "ax1.set_ylim([-4,4])\n",
    "environment.drawObstacles(ax1, True)\n",
    "r.move(start_joint_pos)\n",
    "planarRobotVisualize(r, ax1)\n",
    "r.move(end_joint_pos)\n",
    "planarRobotVisualize(r, ax1)\n"
   ],
   "id": "a0e0f343b4f0a2c3",
   "outputs": [],
   "execution_count": null
  },
  {
   "metadata": {},
   "cell_type": "code",
   "source": [
    "from lectures.IPLazyPRM import LazyPRM\n",
    "from lectures.IPVISLazyPRM import lazyPRMVisualize\n",
    "from lectures.IPBasicPRM import BasicPRM\n",
    "from lectures.IPVISBasicPRM import basicPRMVisualize\n",
    "from lectures.IPVisibilityPRM import VisPRM\n",
    "from lectures.IPVISVisibilityPRM import visibilityPRMVisualize\n",
    "from lectures.IPEnvironmentKin import animateSolution\n",
    "\n",
    "lazyPRM = LazyPRM(environment)\n",
    "lazyConfig = dict()\n",
    "lazyConfig[\"initialRoadmapSize\"] = 20\n",
    "lazyConfig[\"updateRoadmapSize\"]  = 5\n",
    "lazyConfig[\"kNearest\"] = 15\n",
    "lazyConfig[\"maxIterations\"] = 15\n",
    "\n",
    "start_joint_pos = [2.0, 0.5]\n",
    "end_joint_pos = [-2.0, -0.5]\n",
    "\n",
    "start = [start_joint_pos]\n",
    "goal  = [end_joint_pos]\n",
    "\n",
    "## plan path from start to goal\n",
    "solution = lazyPRM.planPath(start, goal, lazyConfig)\n",
    "print(solution)"
   ],
   "id": "55d954fe9273b29b",
   "outputs": [],
   "execution_count": null
  },
  {
   "metadata": {},
   "cell_type": "code",
   "source": "animateSolution(lazyPRM, environment, solution, lazyPRMVisualize)",
   "id": "b0a58f5fa56a4497",
   "outputs": [],
   "execution_count": null
  },
  {
   "metadata": {
    "jupyter": {
     "is_executing": true
    }
   },
   "cell_type": "code",
   "source": [
    "basicPRM = BasicPRM(environment)\n",
    "basicConfig = dict()\n",
    "basicConfig[\"numNodes\"] = 200\n",
    "basicConfig[\"radius\"] = 3\n",
    "solution_basic = basicPRM.planPath(start, goal, basicConfig)\n",
    "print(solution_basic)"
   ],
   "id": "f746d4ff09e1446f",
   "outputs": [],
   "execution_count": null
  },
  {
   "metadata": {},
   "cell_type": "code",
   "source": "",
   "id": "574e927b176bdaf5",
   "outputs": [],
   "execution_count": null
  }
 ],
 "metadata": {
  "kernelspec": {
   "display_name": "Python 3",
   "language": "python",
   "name": "python3"
  },
  "language_info": {
   "codemirror_mode": {
    "name": "ipython",
    "version": 2
   },
   "file_extension": ".py",
   "mimetype": "text/x-python",
   "name": "python",
   "nbconvert_exporter": "python",
   "pygments_lexer": "ipython2",
   "version": "2.7.6"
  }
 },
 "nbformat": 4,
 "nbformat_minor": 5
}
