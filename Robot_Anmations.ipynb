{
 "cells": [
  {
   "cell_type": "code",
   "id": "initial_id",
   "metadata": {
    "collapsed": true
   },
   "source": [
    "from lectures.IPPlanarManipulator import PlanarJoint, PlanarRobot, generate_consistent_joint_config\n",
    "from lectures.IPEnvironmentKin import KinChainCollisionChecker, planarRobotVisualize\n",
    "import matplotlib.pyplot as plt\n",
    "from shapely.geometry import Point, Polygon, LineString\n",
    "from shapely import plotting\n",
    "import sympy as sp\n",
    "import numpy as np\n",
    "\n",
    "obst = dict()\n",
    "obst[\"obs1\"] = LineString([(-2, 0), (-0.8, 0)]).buffer(0.5)\n",
    "obst[\"obs2\"] = LineString([(2, 0), (2, 1)]).buffer(0.2)\n",
    "obst[\"obs3\"] = LineString([(-1, 2), (1, 2)]).buffer(0.1)\n"
   ],
   "outputs": [],
   "execution_count": null
  },
  {
   "metadata": {},
   "cell_type": "markdown",
   "source": "## 2-DOF Example",
   "id": "6583bfda2e18c307"
  },
  {
   "metadata": {},
   "cell_type": "code",
   "source": [
    "r = PlanarRobot(n_joints=2, total_length=3.5)\n",
    "environment = KinChainCollisionChecker(r, obst,fk_resolution=.2)\n",
    "\n",
    "start_joint_angles = generate_consistent_joint_config(r.dim, total_angle=2.0, curvature=0.45)\n",
    "start_joint_pos = sp.Matrix(start_joint_angles)\n",
    "\n",
    "end_joint_angles = generate_consistent_joint_config(r.dim, total_angle=-1.85, curvature=-0.45)\n",
    "end_joint_pos = sp.Matrix(end_joint_angles)\n",
    "\n",
    "fig_local = plt.figure(figsize=(14, 7))\n",
    "## right figure for robot start position\n",
    "ax1 = fig_local.add_subplot(1, 2, 1)\n",
    "ax1.set_xlim([-4,4])\n",
    "ax1.set_ylim([-4,4])\n",
    "environment.drawObstacles(ax1, True)\n",
    "r.move(start_joint_pos)\n",
    "planarRobotVisualize(r, ax1)\n",
    "r.move(end_joint_pos)\n",
    "planarRobotVisualize(r, ax1)\n"
   ],
   "id": "a0e0f343b4f0a2c3",
   "outputs": [],
   "execution_count": null
  },
  {
   "metadata": {},
   "cell_type": "code",
   "source": [
    "from lectures.IPLazyPRM import LazyPRM\n",
    "from lectures.IPVISLazyPRM import lazyPRMVisualize\n",
    "from lectures.IPBasicPRM import BasicPRM\n",
    "from lectures.IPVISBasicPRM import basicPRMVisualize\n",
    "from lectures.IPVisibilityPRM import VisPRM\n",
    "from lectures.IPVISVisibilityPRM import visibilityPRMVisualize\n",
    "from lectures.IPEnvironmentKin import animateSolution\n",
    "\n",
    "lazyPRM = LazyPRM(environment)\n",
    "lazyConfig = dict()\n",
    "lazyConfig[\"initialRoadmapSize\"] = 30\n",
    "lazyConfig[\"updateRoadmapSize\"]  = 5\n",
    "lazyConfig[\"kNearest\"] = 15\n",
    "lazyConfig[\"maxIterations\"] = 15\n",
    "\n",
    "start_joint_pos = [2.0, 0.5]\n",
    "end_joint_pos = [-2.0, -0.5]\n",
    "\n",
    "start = [start_joint_pos]\n",
    "goal  = [end_joint_pos]\n",
    "\n",
    "## plan path from start to goal\n",
    "solution = lazyPRM.planPath(start, goal, lazyConfig)\n",
    "print(solution)"
   ],
   "id": "55d954fe9273b29b",
   "outputs": [],
   "execution_count": null
  },
  {
   "metadata": {},
   "cell_type": "code",
   "source": "animateSolution(lazyPRM, environment, solution, lazyPRMVisualize)",
   "id": "b0a58f5fa56a4497",
   "outputs": [],
   "execution_count": null
  },
  {
   "metadata": {},
   "cell_type": "code",
   "source": [
    "basicPRM = BasicPRM(environment)\n",
    "basicConfig = dict()\n",
    "basicConfig[\"numNodes\"] = 80\n",
    "basicConfig[\"radius\"] = 4\n",
    "solution_basic = basicPRM.planPath(start, goal, basicConfig)\n",
    "print(solution_basic)"
   ],
   "id": "f746d4ff09e1446f",
   "outputs": [],
   "execution_count": null
  },
  {
   "metadata": {},
   "cell_type": "code",
   "source": "animateSolution(basicPRM, environment, solution_basic, basicPRMVisualize)",
   "id": "574e927b176bdaf5",
   "outputs": [],
   "execution_count": null
  },
  {
   "metadata": {},
   "cell_type": "code",
   "source": [
    "visPRM = VisPRM(environment)\n",
    "visConfig = dict()\n",
    "visConfig[\"ntry\"] = 30\n",
    "\n",
    "solution_basic = visPRM.planPath(start, goal, visConfig)\n",
    "print(solution_basic)"
   ],
   "id": "120295885f4e305d",
   "outputs": [],
   "execution_count": null
  },
  {
   "metadata": {},
   "cell_type": "code",
   "source": "animateSolution(visPRM, environment, solution_basic, visibilityPRMVisualize)",
   "id": "d09c90a3be552bd3",
   "outputs": [],
   "execution_count": null
  },
  {
   "metadata": {},
   "cell_type": "markdown",
   "source": "## 4-DoF",
   "id": "34879b0547f60c62"
  },
  {
   "metadata": {
    "ExecuteTime": {
     "end_time": "2025-07-30T09:00:36.705450Z",
     "start_time": "2025-07-30T09:00:34.466401Z"
    }
   },
   "cell_type": "code",
   "source": [
    "from robotSetup import setup\n",
    "# create 4 DoF robot\n",
    "r, environment, start, goal, fig_local, ax = setup(n_dof=4)"
   ],
   "id": "a071e445fa824e20",
   "outputs": [
    {
     "ename": "AttributeError",
     "evalue": "'PlanarRobot' object has no attribute 'getEndpointPositions'",
     "output_type": "error",
     "traceback": [
      "\u001B[31m---------------------------------------------------------------------------\u001B[39m",
      "\u001B[31mAttributeError\u001B[39m                            Traceback (most recent call last)",
      "\u001B[36mCell\u001B[39m\u001B[36m \u001B[39m\u001B[32mIn[1]\u001B[39m\u001B[32m, line 3\u001B[39m\n\u001B[32m      1\u001B[39m \u001B[38;5;28;01mfrom\u001B[39;00m\u001B[38;5;250m \u001B[39m\u001B[34;01mrobotSetup\u001B[39;00m\u001B[38;5;250m \u001B[39m\u001B[38;5;28;01mimport\u001B[39;00m setup\n\u001B[32m      2\u001B[39m \u001B[38;5;66;03m# create 4 DoF robot\u001B[39;00m\n\u001B[32m----> \u001B[39m\u001B[32m3\u001B[39m r, environment, start, goal, fig_local, ax = \u001B[43msetup\u001B[49m\u001B[43m(\u001B[49m\u001B[43mn_dof\u001B[49m\u001B[43m=\u001B[49m\u001B[32;43m4\u001B[39;49m\u001B[43m)\u001B[49m\n",
      "\u001B[36mFile \u001B[39m\u001B[32m~\\PycharmProjects\\pythonProject\\hierachicalPRM_final\\robotSetup.py:53\u001B[39m, in \u001B[36msetup\u001B[39m\u001B[34m(n_dof, obst, total_length, roadmap_size, iterations)\u001B[39m\n\u001B[32m     51\u001B[39m environment.drawObstacles(ax, \u001B[38;5;28;01mTrue\u001B[39;00m)\n\u001B[32m     52\u001B[39m r.move(sp.Matrix(start_joint_angles))\n\u001B[32m---> \u001B[39m\u001B[32m53\u001B[39m \u001B[43mplanarRobotVisualize\u001B[49m\u001B[43m(\u001B[49m\u001B[43mr\u001B[49m\u001B[43m,\u001B[49m\u001B[43m \u001B[49m\u001B[43max\u001B[49m\u001B[43m)\u001B[49m\n\u001B[32m     54\u001B[39m r.move(sp.Matrix(end_joint_angles))\n\u001B[32m     55\u001B[39m planarRobotVisualize(r, ax)\n",
      "\u001B[36mFile \u001B[39m\u001B[32m~\\PycharmProjects\\pythonProject\\hierachicalPRM_final\\robotSetup.py:18\u001B[39m, in \u001B[36mplanarRobotVisualize\u001B[39m\u001B[34m(robot, ax, color)\u001B[39m\n\u001B[32m     16\u001B[39m \u001B[38;5;28;01mdef\u001B[39;00m\u001B[38;5;250m \u001B[39m\u001B[34mplanarRobotVisualize\u001B[39m(robot, ax, color=\u001B[33m'\u001B[39m\u001B[33mblue\u001B[39m\u001B[33m'\u001B[39m):\n\u001B[32m     17\u001B[39m \u001B[38;5;250m    \u001B[39m\u001B[33;03m\"\"\"Visualisiert den planaren Roboter.\"\"\"\u001B[39;00m\n\u001B[32m---> \u001B[39m\u001B[32m18\u001B[39m     points = \u001B[43mrobot\u001B[49m\u001B[43m.\u001B[49m\u001B[43mgetEndpointPositions\u001B[49m()\n\u001B[32m     19\u001B[39m     x_coords = [\u001B[38;5;28mfloat\u001B[39m(point[\u001B[32m0\u001B[39m]) \u001B[38;5;28;01mfor\u001B[39;00m point \u001B[38;5;129;01min\u001B[39;00m points]\n\u001B[32m     20\u001B[39m     y_coords = [\u001B[38;5;28mfloat\u001B[39m(point[\u001B[32m1\u001B[39m]) \u001B[38;5;28;01mfor\u001B[39;00m point \u001B[38;5;129;01min\u001B[39;00m points]\n",
      "\u001B[31mAttributeError\u001B[39m: 'PlanarRobot' object has no attribute 'getEndpointPositions'"
     ]
    },
    {
     "data": {
      "text/plain": [
       "<Figure size 700x700 with 1 Axes>"
      ],
      "image/png": "[encoded data removed]"
     },
     "metadata": {},
     "output_type": "display_data"
    }
   ],
   "execution_count": 1
  },
  {
   "metadata": {},
   "cell_type": "code",
   "source": "",
   "id": "8ce67d3427fc1590",
   "outputs": [],
   "execution_count": null
  },
  {
   "metadata": {},
   "cell_type": "markdown",
   "source": "## 6-DoF",
   "id": "48e32d47f43d48e6"
  },
  {
   "metadata": {},
   "cell_type": "code",
   "source": [
    "r = PlanarRobot(n_joints=6, total_length=1.5)\n",
    "limits = [[-3.14,3.14]] * r.dim\n",
    "environment = KinChainCollisionChecker(r, obst,limits=limits, fk_resolution=.2)\n",
    "\n",
    "start_joint_angles = generate_consistent_joint_config(r.dim, total_angle=2, curvature=0.45)\n",
    "start_joint_pos = sp.Matrix(start_joint_angles)\n",
    "\n",
    "end_joint_angles = generate_consistent_joint_config(r.dim, total_angle=-1.85, curvature=-0.45)\n",
    "end_joint_pos = sp.Matrix(end_joint_angles)\n",
    "\n",
    "fig_local = plt.figure(figsize=(14, 7))\n",
    "## right figure for robot start position\n",
    "ax1 = fig_local.add_subplot(1, 2, 1)\n",
    "ax1.set_xlim([-4,4])\n",
    "ax1.set_ylim([-4,4])\n",
    "environment.drawObstacles(ax1, True)\n",
    "r.move(start_joint_pos)\n",
    "planarRobotVisualize(r, ax1)\n",
    "r.move(end_joint_pos)\n",
    "planarRobotVisualize(r, ax1)"
   ],
   "id": "7c9d77b6cf5d52aa",
   "outputs": [],
   "execution_count": null
  },
  {
   "metadata": {},
   "cell_type": "code",
   "source": [
    "## plan path from start to goal\n",
    "lazyPRM = LazyPRM(environment)\n",
    "start = [np.array(start_joint_angles, dtype=np.float32)]\n",
    "goal = [np.array(end_joint_angles, dtype=np.float32)]\n",
    "## plan path from start ot goal\n",
    "solution = lazyPRM.planPath(start, goal, lazyConfig)\n",
    "print(solution)"
   ],
   "id": "eba63d924ab5d46b",
   "outputs": [],
   "execution_count": null
  },
  {
   "metadata": {},
   "cell_type": "code",
   "source": "animateSolution(lazyPRM, environment, solution, lazyPRMVisualize)",
   "id": "c489d0c02f026030",
   "outputs": [],
   "execution_count": null
  },
  {
   "metadata": {},
   "cell_type": "code",
   "source": [
    "visPRM = VisPRM(environment)\n",
    "visConfig = dict()\n",
    "visConfig[\"ntry\"] = 20\n",
    "\n",
    "solution = visPRM.planPath(start, goal, visConfig)\n",
    "print(solution)"
   ],
   "id": "dd87be9c9e33b447",
   "outputs": [],
   "execution_count": null
  },
  {
   "metadata": {},
   "cell_type": "code",
   "source": "",
   "id": "fdcba0ad9f9286e1",
   "outputs": [],
   "execution_count": null
  },
  {
   "metadata": {},
   "cell_type": "code",
   "source": "",
   "id": "e2bdbb75cfb02cc0",
   "outputs": [],
   "execution_count": null
  }
 ],
 "metadata": {
  "kernelspec": {
   "display_name": "Python 3",
   "language": "python",
   "name": "python3"
  },
  "language_info": {
   "codemirror_mode": {
    "name": "ipython",
    "version": 2
   },
   "file_extension": ".py",
   "mimetype": "text/x-python",
   "name": "python",
   "nbconvert_exporter": "python",
   "pygments_lexer": "ipython2",
   "version": "2.7.6"
  }
 },
 "nbformat": 4,
 "nbformat_minor": 5
}
